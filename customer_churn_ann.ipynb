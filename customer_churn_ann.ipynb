{
 "cells": [
  {
   "cell_type": "markdown",
   "metadata": {},
   "source": [
    "Built a model which predicts the customer churn using an artificial neural network!"
   ]
  },
  {
   "cell_type": "code",
   "execution_count": 1,
   "metadata": {},
   "outputs": [],
   "source": [
    "#Importing required libraries\n",
    "import numpy as np\n",
    "import pandas as pd\n",
    "import tensorflow as tf"
   ]
  },
  {
   "cell_type": "code",
   "execution_count": 2,
   "metadata": {},
   "outputs": [
    {
     "data": {
      "text/plain": [
       "'2.4.1'"
      ]
     },
     "execution_count": 2,
     "metadata": {},
     "output_type": "execute_result"
    }
   ],
   "source": [
    "tf.__version__"
   ]
  },
  {
   "cell_type": "markdown",
   "metadata": {},
   "source": [
    "Data pre-processing"
   ]
  },
  {
   "cell_type": "code",
   "execution_count": 3,
   "metadata": {},
   "outputs": [],
   "source": [
    "#Importing the data\n",
    "data = pd.read_csv('Churn_Modelling.csv')\n",
    "x = data.iloc[:, 3:-1].values\n",
    "y = data.iloc[:, -1].values"
   ]
  },
  {
   "cell_type": "code",
   "execution_count": 4,
   "metadata": {},
   "outputs": [
    {
     "name": "stdout",
     "output_type": "stream",
     "text": [
      "[[619 'France' 'Female' ... 1 1 101348.88]\n",
      " [608 'Spain' 'Female' ... 0 1 112542.58]\n",
      " [502 'France' 'Female' ... 1 0 113931.57]\n",
      " ...\n",
      " [709 'France' 'Female' ... 0 1 42085.58]\n",
      " [772 'Germany' 'Male' ... 1 0 92888.52]\n",
      " [792 'France' 'Female' ... 1 0 38190.78]]\n"
     ]
    }
   ],
   "source": [
    "print(x)"
   ]
  },
  {
   "cell_type": "code",
   "execution_count": 5,
   "metadata": {},
   "outputs": [
    {
     "name": "stdout",
     "output_type": "stream",
     "text": [
      "[1 0 1 ... 1 1 0]\n"
     ]
    }
   ],
   "source": [
    "print(y)"
   ]
  },
  {
   "cell_type": "code",
   "execution_count": 6,
   "metadata": {},
   "outputs": [],
   "source": [
    "#Encoding categorical data\n",
    "\n",
    "#Label encoding 'gender column'\n",
    "from sklearn.preprocessing import LabelEncoder\n",
    "le = LabelEncoder()\n",
    "x[:,2] = le.fit_transform(x[:,2])"
   ]
  },
  {
   "cell_type": "code",
   "execution_count": 7,
   "metadata": {},
   "outputs": [
    {
     "name": "stdout",
     "output_type": "stream",
     "text": [
      "[[619 'France' 0 ... 1 1 101348.88]\n",
      " [608 'Spain' 0 ... 0 1 112542.58]\n",
      " [502 'France' 0 ... 1 0 113931.57]\n",
      " ...\n",
      " [709 'France' 0 ... 0 1 42085.58]\n",
      " [772 'Germany' 1 ... 1 0 92888.52]\n",
      " [792 'France' 0 ... 1 0 38190.78]]\n"
     ]
    }
   ],
   "source": [
    "print(x)"
   ]
  },
  {
   "cell_type": "code",
   "execution_count": 12,
   "metadata": {},
   "outputs": [],
   "source": [
    "#One hot encoding of geography column\n",
    "\n",
    "from sklearn.compose import ColumnTransformer\n",
    "from sklearn.preprocessing import OneHotEncoder\n",
    "ct = ColumnTransformer(transformers = [('encoder', OneHotEncoder(), [1])], remainder = 'passthrough')\n",
    "x = np.array(ct.fit_transform(x))"
   ]
  },
  {
   "cell_type": "code",
   "execution_count": 13,
   "metadata": {},
   "outputs": [
    {
     "name": "stdout",
     "output_type": "stream",
     "text": [
      "[[1.0 0.0 0.0 ... 1 1 101348.88]\n",
      " [0.0 0.0 1.0 ... 0 1 112542.58]\n",
      " [1.0 0.0 0.0 ... 1 0 113931.57]\n",
      " ...\n",
      " [1.0 0.0 0.0 ... 0 1 42085.58]\n",
      " [0.0 1.0 0.0 ... 1 0 92888.52]\n",
      " [1.0 0.0 0.0 ... 1 0 38190.78]]\n"
     ]
    }
   ],
   "source": [
    "print(x)"
   ]
  },
  {
   "cell_type": "code",
   "execution_count": 14,
   "metadata": {},
   "outputs": [],
   "source": [
    "#Splitting the dataset into training and testing set\n",
    "\n",
    "from sklearn.model_selection import train_test_split\n",
    "x_train, x_test, y_train, y_test = train_test_split(x, y, test_size = 0.2, random_state = 0)"
   ]
  },
  {
   "cell_type": "code",
   "execution_count": 15,
   "metadata": {},
   "outputs": [],
   "source": [
    "#Feature scaling\n",
    "\n",
    "from sklearn.preprocessing import StandardScaler\n",
    "sc = StandardScaler()\n",
    "x_train = sc.fit_transform(x_train)\n",
    "x_test = sc.transform(x_test)"
   ]
  },
  {
   "cell_type": "markdown",
   "metadata": {},
   "source": [
    "Building the Artifical Neural Netwrok"
   ]
  },
  {
   "cell_type": "code",
   "execution_count": 16,
   "metadata": {},
   "outputs": [],
   "source": [
    "#Initialising the ANN \n",
    "#Sequential groups a linear stack of layers into a tf.keras.Model\n",
    "ann = tf.keras.models.Sequential()"
   ]
  },
  {
   "cell_type": "code",
   "execution_count": 17,
   "metadata": {},
   "outputs": [],
   "source": [
    "#Adding the input layer and first hidden layer\n",
    "# Dense is for densely-connected NN layer\n",
    "#Activation for models with more classes is softmax\n",
    "ann.add(tf.keras.layers.Dense(units = 6, activation = 'relu'))"
   ]
  },
  {
   "cell_type": "code",
   "execution_count": 18,
   "metadata": {},
   "outputs": [],
   "source": [
    "#Adding the second hidden layer\n",
    "ann.add(tf.keras.layers.Dense(units = 6, activation = 'relu'))"
   ]
  },
  {
   "cell_type": "code",
   "execution_count": 19,
   "metadata": {},
   "outputs": [],
   "source": [
    "#Adding the output layer\n",
    "ann.add(tf.keras.layers.Dense(units = 1, activation = 'sigmoid'))"
   ]
  },
  {
   "cell_type": "markdown",
   "metadata": {},
   "source": [
    "Training the ANN"
   ]
  },
  {
   "cell_type": "code",
   "execution_count": 20,
   "metadata": {},
   "outputs": [],
   "source": [
    "#Compiling the ANN\n",
    "#For binary output loss will be binary_crossentropy and categorical_crossentropy for more classes \n",
    "ann.compile(optimizer = 'adam', loss = 'binary_crossentropy', metrics = ['accuracy'])"
   ]
  },
  {
   "cell_type": "code",
   "execution_count": 21,
   "metadata": {},
   "outputs": [
    {
     "name": "stdout",
     "output_type": "stream",
     "text": [
      "Epoch 1/100\n",
      "250/250 [==============================] - 1s 1ms/step - loss: 0.5980 - accuracy: 0.7195\n",
      "Epoch 2/100\n",
      "250/250 [==============================] - 0s 1ms/step - loss: 0.4650 - accuracy: 0.8004\n",
      "Epoch 3/100\n",
      "250/250 [==============================] - 0s 979us/step - loss: 0.4368 - accuracy: 0.8054\n",
      "Epoch 4/100\n",
      "250/250 [==============================] - 0s 987us/step - loss: 0.4177 - accuracy: 0.8108\n",
      "Epoch 5/100\n",
      "250/250 [==============================] - 0s 942us/step - loss: 0.4168 - accuracy: 0.8089\n",
      "Epoch 6/100\n",
      "250/250 [==============================] - 0s 944us/step - loss: 0.3884 - accuracy: 0.8235\n",
      "Epoch 7/100\n",
      "250/250 [==============================] - 0s 988us/step - loss: 0.3943 - accuracy: 0.8143\n",
      "Epoch 8/100\n",
      "250/250 [==============================] - 0s 1ms/step - loss: 0.3777 - accuracy: 0.8207\n",
      "Epoch 9/100\n",
      "250/250 [==============================] - 0s 887us/step - loss: 0.3782 - accuracy: 0.8200\n",
      "Epoch 10/100\n",
      "250/250 [==============================] - 0s 932us/step - loss: 0.3677 - accuracy: 0.8219\n",
      "Epoch 11/100\n",
      "250/250 [==============================] - 0s 1ms/step - loss: 0.3644 - accuracy: 0.8300\n",
      "Epoch 12/100\n",
      "250/250 [==============================] - 0s 959us/step - loss: 0.3598 - accuracy: 0.8502\n",
      "Epoch 13/100\n",
      "250/250 [==============================] - 0s 997us/step - loss: 0.3586 - accuracy: 0.8501\n",
      "Epoch 14/100\n",
      "250/250 [==============================] - 0s 1ms/step - loss: 0.3483 - accuracy: 0.8568\n",
      "Epoch 15/100\n",
      "250/250 [==============================] - 0s 984us/step - loss: 0.3519 - accuracy: 0.8574\n",
      "Epoch 16/100\n",
      "250/250 [==============================] - 0s 978us/step - loss: 0.3450 - accuracy: 0.8576\n",
      "Epoch 17/100\n",
      "250/250 [==============================] - 0s 981us/step - loss: 0.3469 - accuracy: 0.8558\n",
      "Epoch 18/100\n",
      "250/250 [==============================] - 0s 985us/step - loss: 0.3480 - accuracy: 0.8589\n",
      "Epoch 19/100\n",
      "250/250 [==============================] - 0s 991us/step - loss: 0.3421 - accuracy: 0.8601\n",
      "Epoch 20/100\n",
      "250/250 [==============================] - 0s 991us/step - loss: 0.3367 - accuracy: 0.8648\n",
      "Epoch 21/100\n",
      "250/250 [==============================] - 0s 1ms/step - loss: 0.3433 - accuracy: 0.8576\n",
      "Epoch 22/100\n",
      "250/250 [==============================] - 0s 972us/step - loss: 0.3566 - accuracy: 0.8516\n",
      "Epoch 23/100\n",
      "250/250 [==============================] - 0s 962us/step - loss: 0.3338 - accuracy: 0.8608\n",
      "Epoch 24/100\n",
      "250/250 [==============================] - 0s 1ms/step - loss: 0.3408 - accuracy: 0.8622\n",
      "Epoch 25/100\n",
      "250/250 [==============================] - 0s 969us/step - loss: 0.3490 - accuracy: 0.8563\n",
      "Epoch 26/100\n",
      "250/250 [==============================] - 0s 983us/step - loss: 0.3473 - accuracy: 0.8578\n",
      "Epoch 27/100\n",
      "250/250 [==============================] - 0s 1ms/step - loss: 0.3371 - accuracy: 0.8577\n",
      "Epoch 28/100\n",
      "250/250 [==============================] - 0s 1ms/step - loss: 0.3467 - accuracy: 0.8566\n",
      "Epoch 29/100\n",
      "250/250 [==============================] - 0s 1ms/step - loss: 0.3399 - accuracy: 0.8603\n",
      "Epoch 30/100\n",
      "250/250 [==============================] - 0s 1ms/step - loss: 0.3421 - accuracy: 0.8565\n",
      "Epoch 31/100\n",
      "250/250 [==============================] - 0s 1ms/step - loss: 0.3331 - accuracy: 0.8651\n",
      "Epoch 32/100\n",
      "250/250 [==============================] - 0s 943us/step - loss: 0.3267 - accuracy: 0.8676\n",
      "Epoch 33/100\n",
      "250/250 [==============================] - 0s 928us/step - loss: 0.3399 - accuracy: 0.8638\n",
      "Epoch 34/100\n",
      "250/250 [==============================] - 0s 900us/step - loss: 0.3334 - accuracy: 0.8644\n",
      "Epoch 35/100\n",
      "250/250 [==============================] - 0s 902us/step - loss: 0.3305 - accuracy: 0.8664\n",
      "Epoch 36/100\n",
      "250/250 [==============================] - 0s 848us/step - loss: 0.3331 - accuracy: 0.8642\n",
      "Epoch 37/100\n",
      "250/250 [==============================] - 0s 798us/step - loss: 0.3456 - accuracy: 0.8639\n",
      "Epoch 38/100\n",
      "250/250 [==============================] - 0s 847us/step - loss: 0.3474 - accuracy: 0.8592\n",
      "Epoch 39/100\n",
      "250/250 [==============================] - 0s 918us/step - loss: 0.3463 - accuracy: 0.8569\n",
      "Epoch 40/100\n",
      "250/250 [==============================] - 0s 976us/step - loss: 0.3472 - accuracy: 0.8592\n",
      "Epoch 41/100\n",
      "250/250 [==============================] - 0s 914us/step - loss: 0.3441 - accuracy: 0.8619\n",
      "Epoch 42/100\n",
      "250/250 [==============================] - 0s 951us/step - loss: 0.3310 - accuracy: 0.8641\n",
      "Epoch 43/100\n",
      "250/250 [==============================] - 0s 950us/step - loss: 0.3224 - accuracy: 0.8694\n",
      "Epoch 44/100\n",
      "250/250 [==============================] - 0s 904us/step - loss: 0.3415 - accuracy: 0.8609\n",
      "Epoch 45/100\n",
      "250/250 [==============================] - 0s 895us/step - loss: 0.3314 - accuracy: 0.8644\n",
      "Epoch 46/100\n",
      "250/250 [==============================] - 0s 974us/step - loss: 0.3309 - accuracy: 0.8635\n",
      "Epoch 47/100\n",
      "250/250 [==============================] - 0s 928us/step - loss: 0.3382 - accuracy: 0.8638\n",
      "Epoch 48/100\n",
      "250/250 [==============================] - 0s 1ms/step - loss: 0.3350 - accuracy: 0.8653\n",
      "Epoch 49/100\n",
      "250/250 [==============================] - 0s 943us/step - loss: 0.3241 - accuracy: 0.8702\n",
      "Epoch 50/100\n",
      "250/250 [==============================] - 0s 887us/step - loss: 0.3301 - accuracy: 0.8712\n",
      "Epoch 51/100\n",
      "250/250 [==============================] - 0s 947us/step - loss: 0.3215 - accuracy: 0.8734\n",
      "Epoch 52/100\n",
      "250/250 [==============================] - 0s 1ms/step - loss: 0.3365 - accuracy: 0.8645\n",
      "Epoch 53/100\n",
      "250/250 [==============================] - 0s 943us/step - loss: 0.3329 - accuracy: 0.8649\n",
      "Epoch 54/100\n",
      "250/250 [==============================] - 0s 913us/step - loss: 0.3374 - accuracy: 0.8640\n",
      "Epoch 55/100\n",
      "250/250 [==============================] - 0s 956us/step - loss: 0.3375 - accuracy: 0.8623\n",
      "Epoch 56/100\n",
      "250/250 [==============================] - 0s 1ms/step - loss: 0.3359 - accuracy: 0.8621\n",
      "Epoch 57/100\n",
      "250/250 [==============================] - 0s 928us/step - loss: 0.3494 - accuracy: 0.8573\n",
      "Epoch 58/100\n",
      "250/250 [==============================] - 0s 928us/step - loss: 0.3350 - accuracy: 0.8661\n",
      "Epoch 59/100\n",
      "250/250 [==============================] - 0s 1ms/step - loss: 0.3273 - accuracy: 0.8654\n",
      "Epoch 60/100\n",
      "250/250 [==============================] - 0s 902us/step - loss: 0.3308 - accuracy: 0.8674\n",
      "Epoch 61/100\n",
      "250/250 [==============================] - 0s 832us/step - loss: 0.3438 - accuracy: 0.8583\n",
      "Epoch 62/100\n",
      "250/250 [==============================] - 0s 937us/step - loss: 0.3306 - accuracy: 0.8678\n",
      "Epoch 63/100\n",
      "250/250 [==============================] - 0s 983us/step - loss: 0.3282 - accuracy: 0.8686\n",
      "Epoch 64/100\n",
      "250/250 [==============================] - 0s 1ms/step - loss: 0.3279 - accuracy: 0.8657\n",
      "Epoch 65/100\n",
      "250/250 [==============================] - 0s 1ms/step - loss: 0.3382 - accuracy: 0.8661\n",
      "Epoch 66/100\n",
      "250/250 [==============================] - 0s 1ms/step - loss: 0.3255 - accuracy: 0.8673\n",
      "Epoch 67/100\n",
      "250/250 [==============================] - 0s 1ms/step - loss: 0.3290 - accuracy: 0.8644\n",
      "Epoch 68/100\n",
      "250/250 [==============================] - 0s 968us/step - loss: 0.3277 - accuracy: 0.8648\n",
      "Epoch 69/100\n",
      "250/250 [==============================] - 0s 1ms/step - loss: 0.3285 - accuracy: 0.8635\n",
      "Epoch 70/100\n",
      "250/250 [==============================] - 0s 1ms/step - loss: 0.3332 - accuracy: 0.8641\n",
      "Epoch 71/100\n",
      "250/250 [==============================] - 0s 868us/step - loss: 0.3356 - accuracy: 0.8624\n",
      "Epoch 72/100\n",
      "250/250 [==============================] - 0s 1ms/step - loss: 0.3303 - accuracy: 0.8653\n",
      "Epoch 73/100\n",
      "250/250 [==============================] - 0s 876us/step - loss: 0.3356 - accuracy: 0.8627\n",
      "Epoch 74/100\n",
      "250/250 [==============================] - 0s 785us/step - loss: 0.3386 - accuracy: 0.8625\n",
      "Epoch 75/100\n",
      "250/250 [==============================] - 0s 915us/step - loss: 0.3372 - accuracy: 0.8597\n",
      "Epoch 76/100\n",
      "250/250 [==============================] - 0s 953us/step - loss: 0.3359 - accuracy: 0.8608\n",
      "Epoch 77/100\n",
      "250/250 [==============================] - 0s 929us/step - loss: 0.3473 - accuracy: 0.8630\n",
      "Epoch 78/100\n",
      "250/250 [==============================] - 0s 895us/step - loss: 0.3364 - accuracy: 0.8610\n",
      "Epoch 79/100\n",
      "250/250 [==============================] - 0s 932us/step - loss: 0.3346 - accuracy: 0.8613\n",
      "Epoch 80/100\n",
      "250/250 [==============================] - 0s 944us/step - loss: 0.3367 - accuracy: 0.8651\n",
      "Epoch 81/100\n",
      "250/250 [==============================] - 0s 919us/step - loss: 0.3327 - accuracy: 0.8642\n",
      "Epoch 82/100\n",
      "250/250 [==============================] - 0s 895us/step - loss: 0.3367 - accuracy: 0.8601\n",
      "Epoch 83/100\n",
      "250/250 [==============================] - 0s 897us/step - loss: 0.3402 - accuracy: 0.8620\n",
      "Epoch 84/100\n",
      "250/250 [==============================] - 0s 846us/step - loss: 0.3473 - accuracy: 0.8607\n",
      "Epoch 85/100\n",
      "250/250 [==============================] - 0s 905us/step - loss: 0.3258 - accuracy: 0.8690\n",
      "Epoch 86/100\n",
      "250/250 [==============================] - 0s 904us/step - loss: 0.3265 - accuracy: 0.8648\n",
      "Epoch 87/100\n",
      "250/250 [==============================] - 0s 904us/step - loss: 0.3319 - accuracy: 0.8674\n",
      "Epoch 88/100\n",
      "250/250 [==============================] - 0s 875us/step - loss: 0.3221 - accuracy: 0.8675\n",
      "Epoch 89/100\n",
      "250/250 [==============================] - 0s 928us/step - loss: 0.3389 - accuracy: 0.8628\n",
      "Epoch 90/100\n",
      "250/250 [==============================] - 0s 921us/step - loss: 0.3348 - accuracy: 0.8661\n",
      "Epoch 91/100\n",
      "250/250 [==============================] - 0s 986us/step - loss: 0.3381 - accuracy: 0.8607\n",
      "Epoch 92/100\n",
      "250/250 [==============================] - 0s 1ms/step - loss: 0.3357 - accuracy: 0.8629\n",
      "Epoch 93/100\n",
      "250/250 [==============================] - 0s 1ms/step - loss: 0.3327 - accuracy: 0.8654\n",
      "Epoch 94/100\n",
      "250/250 [==============================] - 0s 964us/step - loss: 0.3268 - accuracy: 0.8641\n",
      "Epoch 95/100\n",
      "250/250 [==============================] - 0s 1ms/step - loss: 0.3233 - accuracy: 0.8770\n",
      "Epoch 96/100\n",
      "250/250 [==============================] - 0s 948us/step - loss: 0.3315 - accuracy: 0.8682\n",
      "Epoch 97/100\n",
      "250/250 [==============================] - 0s 921us/step - loss: 0.3373 - accuracy: 0.8638\n",
      "Epoch 98/100\n",
      "250/250 [==============================] - 0s 1ms/step - loss: 0.3224 - accuracy: 0.8707\n",
      "Epoch 99/100\n",
      "250/250 [==============================] - 0s 1ms/step - loss: 0.3259 - accuracy: 0.8670\n",
      "Epoch 100/100\n",
      "250/250 [==============================] - 0s 1ms/step - loss: 0.3224 - accuracy: 0.8702\n"
     ]
    },
    {
     "data": {
      "text/plain": [
       "<tensorflow.python.keras.callbacks.History at 0x1decb6f5ac0>"
      ]
     },
     "execution_count": 21,
     "metadata": {},
     "output_type": "execute_result"
    }
   ],
   "source": [
    "#Training the ANN on training set\n",
    "ann.fit(x_train, y_train, batch_size =32, epochs = 100)"
   ]
  },
  {
   "cell_type": "code",
   "execution_count": 23,
   "metadata": {},
   "outputs": [
    {
     "name": "stdout",
     "output_type": "stream",
     "text": [
      "[[0.03154215]]\n"
     ]
    }
   ],
   "source": [
    "#Using built ANN to predict a single piece of data\n",
    "print(ann.predict(sc.transform([[1,0,0, 600, 1, 40, 3, 60000, 2, 1, 1, 50000]])))"
   ]
  },
  {
   "cell_type": "markdown",
   "metadata": {},
   "source": [
    "Predicting the test set"
   ]
  },
  {
   "cell_type": "code",
   "execution_count": 24,
   "metadata": {},
   "outputs": [
    {
     "name": "stdout",
     "output_type": "stream",
     "text": [
      "[[0 0]\n",
      " [0 1]\n",
      " [0 0]\n",
      " ...\n",
      " [0 0]\n",
      " [0 0]\n",
      " [0 0]]\n"
     ]
    }
   ],
   "source": [
    "y_pred = ann.predict(x_test)\n",
    "y_pred = (y_pred > 0.5)\n",
    "print(np.concatenate((y_pred.reshape(len(y_pred),1), y_test.reshape(len(y_test),1)),1))"
   ]
  },
  {
   "cell_type": "markdown",
   "metadata": {},
   "source": [
    "Making the confusion matrix"
   ]
  },
  {
   "cell_type": "code",
   "execution_count": 25,
   "metadata": {},
   "outputs": [
    {
     "name": "stdout",
     "output_type": "stream",
     "text": [
      "[[1519   76]\n",
      " [ 200  205]]\n"
     ]
    }
   ],
   "source": [
    "from sklearn.metrics import confusion_matrix, accuracy_score\n",
    "cm = confusion_matrix(y_test, y_pred)\n",
    "print(cm)"
   ]
  },
  {
   "cell_type": "code",
   "execution_count": 26,
   "metadata": {},
   "outputs": [
    {
     "data": {
      "text/plain": [
       "0.862"
      ]
     },
     "execution_count": 26,
     "metadata": {},
     "output_type": "execute_result"
    }
   ],
   "source": [
    "#Prinitng the accuracy\n",
    "accuracy_score(y_test, y_pred)"
   ]
  }
 ],
 "metadata": {
  "kernelspec": {
   "display_name": "Python 3",
   "language": "python",
   "name": "python3"
  },
  "language_info": {
   "codemirror_mode": {
    "name": "ipython",
    "version": 3
   },
   "file_extension": ".py",
   "mimetype": "text/x-python",
   "name": "python",
   "nbconvert_exporter": "python",
   "pygments_lexer": "ipython3",
   "version": "3.8.5"
  }
 },
 "nbformat": 4,
 "nbformat_minor": 4
}
